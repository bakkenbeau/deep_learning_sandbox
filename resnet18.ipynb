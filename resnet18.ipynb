{
 "cells": [
  {
   "cell_type": "code",
   "execution_count": 1,
   "id": "f5708b58",
   "metadata": {},
   "outputs": [],
   "source": [
    "import torch.nn as nn\n",
    "import torch\n",
    "from torch import Tensor\n",
    "from typing import Type"
   ]
  },
  {
   "cell_type": "markdown",
   "id": "5ca86fdb",
   "metadata": {},
   "source": [
    "## Layer 1\n",
    "### Basic Block 1\n",
    "Conv2D: in_channels=64, out_channels=64, kernel_size=(3,3)[come easily from paper], stride=1 [not sure where this was stated, believe it is from Table 1 since it says specifically stride of 2 for other lays], bias=True [defaults to True], padding_mode='zeros [default and stated in paper], padding=1 [stated in sources 1 and 2]\n",
    "\n",
    "BatchNorm2d: num_features=64 [comes from previous out_channel], momentum=0.9 [states 0.9 in paper, but I see other implementations do 0.1], affine=True [defaults to true], eps=1e-5 [defaults to 1e-5]\n",
    "\n",
    "ReLU: inplace=False [defaults to False]\n",
    "\n",
    "Conv2D: in_channels=64, out_channels=64, kernel_size=(3,3), stride=1, bias=True, padding_mode='zeros'\n",
    "\n",
    "BatchNorm2d: num_features=64, momentum=0.9, affine=True, eps=1e-5 \n",
    "\n",
    "ReLU: inplace=False\n",
    "\n",
    "### Basic Block 2\n",
    "\n",
    "Conv2D: in_channels=64, out_channels=64, kernel_size=(3,3), stride=1, bias=True, padding_mode='zeros'\n",
    "\n",
    "BatchNorm2d: num_features=64, momentum=0.9, affine=True, eps=1e-5 \n",
    "\n",
    "ReLU: inplace=False \n",
    "\n",
    "Conv2D: in_channels=64, out_channels=64, kernel_size=(3,3), stride=1, bias=True, padding_mode='zeros'\n",
    "\n",
    "BatchNorm2d: num_features=64, momentum=0.9, affine=True, eps=1e-5 \n",
    "\n",
    "ReLU: inplace=False "
   ]
  },
  {
   "cell_type": "markdown",
   "id": "73a74fb4",
   "metadata": {},
   "source": [
    "# Questions\n",
    "why is in_channels start at 64?\n",
    "What's the correct momentum, 0.9 or 0.1 to use for BN layers? [1,2,3]\n",
    "Is there bias?\n",
    "\n",
    "[1] https://debuggercafe.com/implementing-resnet18-in-pytorch-from-scratch/\n",
    "[2] https://www.kaggle.com/code/ivankunyankin/resnet18-from-scratch-using-pytorch\n",
    "[3] https://github.com/jimmyyhwu/resnet18-tf2/blob/master/resnet.py"
   ]
  },
  {
   "cell_type": "code",
   "execution_count": null,
   "id": "42f17e2c",
   "metadata": {},
   "outputs": [],
   "source": [
    "class BasicBlock(nn.Module): # nn.module is basic class for all neural network models\n",
    "    def __init__(self, in_channels, out_channels, stride):\n",
    "        super(BasicBlock, self).__init__() # TODO clarify what this is doing\n",
    "        \n",
    "        self.conv1 = nn.Conv2d(in_channels, out_channels, kernel_size=3, stride=stride, padding=1) # TODO check to make sure bias is False or True\n",
    "        self.bn1 = nn.BatchNorm2d(out_channels, momentum=0.9) # TODO double check momentum\n",
    "        self.relu = nn.RelU()\n",
    "        \n",
    "        self.conv2 = nn.Conv2d(in_channels, out_channels, kernel_size=3, stride=stride, padding=1)\n",
    "        self.bn2 = nn.BatchNorm2d(out_channels, momentum=0.9)\n",
    "        \n",
    "    def forward(self, x: Tensor) -> Tensor:\n",
    "        identity = x # this is the power of residual networks\n",
    "        \n",
    "        out = self.conv1(x)\n",
    "        out = self.bn1(out)\n",
    "        out = self.relu(out)\n",
    "        \n",
    "        out = self.conv2(x)\n",
    "        out = self.bn2(out)\n",
    "        \n",
    "        "
   ]
  }
 ],
 "metadata": {
  "kernelspec": {
   "display_name": "Python 3 (ipykernel)",
   "language": "python",
   "name": "python3"
  },
  "language_info": {
   "codemirror_mode": {
    "name": "ipython",
    "version": 3
   },
   "file_extension": ".py",
   "mimetype": "text/x-python",
   "name": "python",
   "nbconvert_exporter": "python",
   "pygments_lexer": "ipython3",
   "version": "3.10.8"
  }
 },
 "nbformat": 4,
 "nbformat_minor": 5
}
